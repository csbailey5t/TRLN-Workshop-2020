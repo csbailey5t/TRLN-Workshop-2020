{
 "cells": [
  {
   "cell_type": "code",
   "execution_count": 33,
   "metadata": {},
   "outputs": [],
   "source": [
    "import requests\n",
    "import json\n",
    "import math\n",
    "from itertools import chain\n",
    "import pandas as pd\n",
    "import os"
   ]
  },
  {
   "cell_type": "code",
   "execution_count": 2,
   "metadata": {},
   "outputs": [],
   "source": [
    "collection_url = \"https://d.lib.ncsu.edu/collections/catalog/manifest?f[fulltext_bs][]=true&f[ispartof_facet][]=Animal+Turn&page=1\""
   ]
  },
  {
   "cell_type": "code",
   "execution_count": 3,
   "metadata": {},
   "outputs": [],
   "source": [
    "single_url = \"https://d.lib.ncsu.edu/collections/catalog/mc00456-001-bx0004-004-001/manifest\""
   ]
  },
  {
   "cell_type": "code",
   "execution_count": 4,
   "metadata": {},
   "outputs": [],
   "source": [
    "# Add &page=1 to get the first page manifest\n",
    "collection_base_url = \"https://d.lib.ncsu.edu/collections/catalog/manifest/page?f%5Bfulltext_bs%5D%5B%5D=true&f%5Bispartof_facet%5D%5B%5D=Animal+Turn&page=1\""
   ]
  },
  {
   "cell_type": "code",
   "execution_count": 5,
   "metadata": {},
   "outputs": [],
   "source": [
    "res = requests.get(collection_base_url)\n",
    "data = res.content"
   ]
  },
  {
   "cell_type": "code",
   "execution_count": 6,
   "metadata": {
    "tags": []
   },
   "outputs": [
    {
     "output_type": "execute_result",
     "data": {
      "text/plain": "[{'@id': 'https://d.lib.ncsu.edu/collections/catalog/mc00456-001-bx0004-004-001/manifest',\n  '@type': 'sc:Manifest',\n  'label': '\"In at the death\": Freeman on cruelty in sport',\n  'dcterms:modified': '2020-01-25T05:47:13Z'},\n {'@id': 'https://d.lib.ncsu.edu/collections/catalog/mc00344_118824_20200131_1256/manifest',\n  '@type': 'sc:Manifest',\n  'label': '\"Some Uses of Laboratory Animals\"',\n  'dcterms:modified': '2020-02-17T13:59:09Z'},\n {'@id': 'https://d.lib.ncsu.edu/collections/catalog/mc00456-001-bx0006-034-001/manifest',\n  '@type': 'sc:Manifest',\n  'label': '\"The Times\" article on the results of experiments on living animals',\n  'dcterms:modified': '2020-01-25T05:47:57Z'},\n {'@id': 'https://d.lib.ncsu.edu/collections/catalog/mc00456-001-bx0007-013-001/manifest',\n  '@type': 'sc:Manifest',\n  'label': 'A bill for the abolition of vivisection',\n  'dcterms:modified': '2020-01-25T05:47:35Z'},\n {'@id': 'https://d.lib.ncsu.edu/collections/catalog/mc00456-001-bx0002-009-001/manifest',\n  '@type': 'sc:Manifest',\n  'label': 'A call for more helpers',\n  'dcterms:modified': '2020-01-25T05:42:18Z'},\n {'@id': 'https://d.lib.ncsu.edu/collections/catalog/mc00456-001-bx0002-023-001/manifest',\n  '@type': 'sc:Manifest',\n  'label': 'A concise handbook on cruel sports',\n  'dcterms:modified': '2020-01-25T05:42:22Z'},\n {'@id': 'https://d.lib.ncsu.edu/collections/catalog/mc00456-001-bx0002-024-001/manifest',\n  '@type': 'sc:Manifest',\n  'label': 'A correspondence in \"The Daily Mail\" between Sir Victor Horsely and Dr. Walter R. Hadwen on vivisection, September 1908',\n  'dcterms:modified': '2020-01-25T05:42:23Z'},\n {'@id': 'https://d.lib.ncsu.edu/collections/catalog/mc00620-001-bx0001-034-001/manifest',\n  '@type': 'sc:Manifest',\n  'label': 'A dangerous ideal',\n  'dcterms:modified': '2020-01-25T05:27:06Z'},\n {'@id': 'https://d.lib.ncsu.edu/collections/catalog/mc00456-001-bx0002-042-001/manifest',\n  '@type': 'sc:Manifest',\n  'label': 'A debate on is vivisection immoral, cruel, useless and unscientific?',\n  'dcterms:modified': '2020-01-25T05:42:35Z'},\n {'@id': 'https://d.lib.ncsu.edu/collections/catalog/mc00456-001-bx0002-043-001/manifest',\n  '@type': 'sc:Manifest',\n  'label': 'A debate on should vivisection be abolished?',\n  'dcterms:modified': '2020-01-25T05:42:36Z'},\n {'@id': 'https://d.lib.ncsu.edu/collections/catalog/mc00620-001-bx0001-063-001/manifest',\n  '@type': 'sc:Manifest',\n  'label': 'A letter to children',\n  'dcterms:modified': '2020-01-25T05:27:15Z'},\n {'@id': 'https://d.lib.ncsu.edu/collections/catalog/mc00620-001-bx0001-064-001/manifest',\n  '@type': 'sc:Manifest',\n  'label': 'A little mourner never forgotten',\n  'dcterms:modified': '2020-01-25T05:27:15Z'},\n {'@id': 'https://d.lib.ncsu.edu/collections/catalog/mc00456-001-bx0004-035-001/manifest',\n  '@type': 'sc:Manifest',\n  'label': 'A mean and barbarous insurance against the possibility of damage',\n  'dcterms:modified': '2020-01-25T05:47:23Z'},\n {'@id': 'https://d.lib.ncsu.edu/collections/catalog/mc00620-001-bx0001-071-001/manifest',\n  '@type': 'sc:Manifest',\n  'label': 'A message to every child - from every animal',\n  'dcterms:modified': '2020-01-25T05:27:18Z'},\n {'@id': 'https://d.lib.ncsu.edu/collections/catalog/mc00620-001-hb0002-019-005/manifest',\n  '@type': 'sc:Manifest',\n  'label': 'A message to every child--from every animal',\n  'dcterms:modified': '2020-01-25T05:26:49Z'},\n {'@id': 'https://d.lib.ncsu.edu/collections/catalog/mc00620-001-bx0001-081-001/manifest',\n  '@type': 'sc:Manifest',\n  'label': 'A plea for the helpless',\n  'dcterms:modified': '2020-01-25T05:27:21Z'},\n {'@id': 'https://d.lib.ncsu.edu/collections/catalog/mc00456-001-bx0005-034-001/manifest',\n  '@type': 'sc:Manifest',\n  'label': 'A reply to an article by Rev. L. Wallace in the Westminster Review, March, 1892',\n  'dcterms:modified': '2020-01-25T05:48:16Z'},\n {'@id': 'https://d.lib.ncsu.edu/collections/catalog/mc00456-001-bx0005-035-001/manifest',\n  '@type': 'sc:Manifest',\n  'label': 'A reply to Professor Schafer on the subject of \"the origin of life\"',\n  'dcterms:modified': '2020-01-25T05:48:17Z'},\n {'@id': 'https://d.lib.ncsu.edu/collections/catalog/mc00456-001-bx0005-040-001/manifest',\n  '@type': 'sc:Manifest',\n  'label': 'A review and refutation of the principal claims made on behalf of vivisection research',\n  'dcterms:modified': '2020-01-25T05:48:19Z'},\n {'@id': 'https://d.lib.ncsu.edu/collections/catalog/mc00456-001-bx0006-011-001/manifest',\n  '@type': 'sc:Manifest',\n  'label': 'A savage sport: the case against coursing',\n  'dcterms:modified': '2020-01-25T05:47:42Z'}]"
     },
     "metadata": {},
     "execution_count": 6
    }
   ],
   "source": [
    "manifest = json.loads(data)\n",
    "manifest[\"members\"]"
   ]
  },
  {
   "cell_type": "code",
   "execution_count": 7,
   "metadata": {},
   "outputs": [],
   "source": [
    "def get_id_from_url(url):\n",
    "    chunks = url.split(\"/\")\n",
    "    return chunks[-2]"
   ]
  },
  {
   "cell_type": "code",
   "execution_count": 25,
   "metadata": {},
   "outputs": [],
   "source": [
    "def get_ids_titles_from_manifest(manifest_url):\n",
    "    res = requests.get(manifest_url)\n",
    "    data = res.content\n",
    "    manifest = json.loads(data)\n",
    "    ids_titles = [(get_id_from_url(item[\"@id\"]), item[\"label\"]) for item in manifest[\"members\"]]\n",
    "    return ids_titles"
   ]
  },
  {
   "cell_type": "code",
   "execution_count": 26,
   "metadata": {},
   "outputs": [
    {
     "output_type": "execute_result",
     "data": {
      "text/plain": "[('mc00456-001-bx0004-004-001',\n  '\"In at the death\": Freeman on cruelty in sport'),\n ('mc00344_118824_20200131_1256', '\"Some Uses of Laboratory Animals\"'),\n ('mc00456-001-bx0006-034-001',\n  '\"The Times\" article on the results of experiments on living animals'),\n ('mc00456-001-bx0007-013-001', 'A bill for the abolition of vivisection'),\n ('mc00456-001-bx0002-009-001', 'A call for more helpers'),\n ('mc00456-001-bx0002-023-001', 'A concise handbook on cruel sports'),\n ('mc00456-001-bx0002-024-001',\n  'A correspondence in \"The Daily Mail\" between Sir Victor Horsely and Dr. Walter R. Hadwen on vivisection, September 1908'),\n ('mc00620-001-bx0001-034-001', 'A dangerous ideal'),\n ('mc00456-001-bx0002-042-001',\n  'A debate on is vivisection immoral, cruel, useless and unscientific?'),\n ('mc00456-001-bx0002-043-001',\n  'A debate on should vivisection be abolished?'),\n ('mc00620-001-bx0001-063-001', 'A letter to children'),\n ('mc00620-001-bx0001-064-001', 'A little mourner never forgotten'),\n ('mc00456-001-bx0004-035-001',\n  'A mean and barbarous insurance against the possibility of damage'),\n ('mc00620-001-bx0001-071-001',\n  'A message to every child - from every animal'),\n ('mc00620-001-hb0002-019-005', 'A message to every child--from every animal'),\n ('mc00620-001-bx0001-081-001', 'A plea for the helpless'),\n ('mc00456-001-bx0005-034-001',\n  'A reply to an article by Rev. L. Wallace in the Westminster Review, March, 1892'),\n ('mc00456-001-bx0005-035-001',\n  'A reply to Professor Schafer on the subject of \"the origin of life\"'),\n ('mc00456-001-bx0005-040-001',\n  'A review and refutation of the principal claims made on behalf of vivisection research'),\n ('mc00456-001-bx0006-011-001', 'A savage sport: the case against coursing')]"
     },
     "metadata": {},
     "execution_count": 26
    }
   ],
   "source": [
    "get_ids_titles_from_manifest(collection_base_url)"
   ]
  },
  {
   "cell_type": "code",
   "execution_count": 12,
   "metadata": {},
   "outputs": [],
   "source": [
    "def get_item_count(manifest_url):\n",
    "    data = requests.get(manifest_url).content\n",
    "    manifest = json.loads(data)\n",
    "    return manifest[\"total\"]"
   ]
  },
  {
   "cell_type": "code",
   "execution_count": 13,
   "metadata": {},
   "outputs": [
    {
     "output_type": "execute_result",
     "data": {
      "text/plain": "1006"
     },
     "metadata": {},
     "execution_count": 13
    }
   ],
   "source": [
    "get_item_count(collection_url)"
   ]
  },
  {
   "cell_type": "code",
   "execution_count": 14,
   "metadata": {},
   "outputs": [
    {
     "output_type": "execute_result",
     "data": {
      "text/plain": "50.3"
     },
     "metadata": {},
     "execution_count": 14
    }
   ],
   "source": [
    "num_pages = get_item_count(collection_url) / 20\n",
    "num_pages"
   ]
  },
  {
   "cell_type": "code",
   "execution_count": 15,
   "metadata": {},
   "outputs": [],
   "source": [
    "all_items = []\n",
    "for page in range(1, math.ceil(num_pages) + 1):\n",
    "    url = f\"https://d.lib.ncsu.edu/collections/catalog/manifest/page?f%5Bfulltext_bs%5D%5B%5D=true&f%5Bispartof_facet%5D%5B%5D=Animal+Turn&page={page}\"\n",
    "    ids_titles = get_ids_titles_from_manifest(url)\n",
    "    all_items.append(ids_titles)"
   ]
  },
  {
   "cell_type": "code",
   "execution_count": 16,
   "metadata": {},
   "outputs": [],
   "source": [
    "all_items_flat = list(chain(*all_items))"
   ]
  },
  {
   "cell_type": "code",
   "execution_count": 18,
   "metadata": {},
   "outputs": [
    {
     "output_type": "execute_result",
     "data": {
      "text/plain": "1006"
     },
     "metadata": {},
     "execution_count": 18
    }
   ],
   "source": [
    "len(all_items_flat)"
   ]
  },
  {
   "cell_type": "code",
   "execution_count": 20,
   "metadata": {},
   "outputs": [
    {
     "output_type": "execute_result",
     "data": {
      "text/plain": "1006"
     },
     "metadata": {},
     "execution_count": 20
    }
   ],
   "source": [
    "len(set(all_items_flat))"
   ]
  },
  {
   "cell_type": "code",
   "execution_count": 22,
   "metadata": {},
   "outputs": [
    {
     "output_type": "execute_result",
     "data": {
      "text/plain": "[('mc00456-001-bx0004-004-001',\n  '\"In at the death\": Freeman on cruelty in sport'),\n ('mc00344_118824_20200131_1256', '\"Some Uses of Laboratory Animals\"'),\n ('mc00456-001-bx0006-034-001',\n  '\"The Times\" article on the results of experiments on living animals'),\n ('mc00456-001-bx0007-013-001', 'A bill for the abolition of vivisection'),\n ('mc00456-001-bx0002-009-001', 'A call for more helpers')]"
     },
     "metadata": {},
     "execution_count": 22
    }
   ],
   "source": [
    "all_items_flat[:5]"
   ]
  },
  {
   "cell_type": "code",
   "execution_count": 21,
   "metadata": {},
   "outputs": [],
   "source": [
    "ocr_link_example = \"https://ocr.lib.ncsu.edu/ocr/mc/mc00456-001-bx0004-004-001/mc00456-001-bx0004-004-001.txt\""
   ]
  },
  {
   "cell_type": "code",
   "execution_count": 27,
   "metadata": {},
   "outputs": [
    {
     "output_type": "execute_result",
     "data": {
      "text/plain": "[('mc00456-001-bx0004-004-001',\n  '\"In at the death\": Freeman on cruelty in sport',\n  'mc'),\n ('mc00344_118824_20200131_1256', '\"Some Uses of Laboratory Animals\"', 'mc'),\n ('mc00456-001-bx0006-034-001',\n  '\"The Times\" article on the results of experiments on living animals',\n  'mc'),\n ('mc00456-001-bx0007-013-001',\n  'A bill for the abolition of vivisection',\n  'mc'),\n ('mc00456-001-bx0002-009-001', 'A call for more helpers', 'mc'),\n ('mc00456-001-bx0002-023-001', 'A concise handbook on cruel sports', 'mc'),\n ('mc00456-001-bx0002-024-001',\n  'A correspondence in \"The Daily Mail\" between Sir Victor Horsely and Dr. Walter R. Hadwen on vivisection, September 1908',\n  'mc'),\n ('mc00620-001-bx0001-034-001', 'A dangerous ideal', 'mc'),\n ('mc00456-001-bx0002-042-001',\n  'A debate on is vivisection immoral, cruel, useless and unscientific?',\n  'mc'),\n ('mc00456-001-bx0002-043-001',\n  'A debate on should vivisection be abolished?',\n  'mc')]"
     },
     "metadata": {},
     "execution_count": 27
    }
   ],
   "source": [
    "ids_titles_pre = [(id, title, id[:2]) for (id, title) in all_items_flat]\n",
    "ids_titles_pre[:10]"
   ]
  },
  {
   "cell_type": "code",
   "execution_count": 28,
   "metadata": {},
   "outputs": [
    {
     "output_type": "execute_result",
     "data": {
      "text/plain": "['https://ocr.lib.ncsu.edu/ocr/mc/mc00344-001-bx0001_1-008-000/mc00344-001-bx0001_1-008-000.txt',\n 'https://ocr.lib.ncsu.edu/ocr/mc/mc00344-001-bx0001_1-006-000/mc00344-001-bx0001_1-006-000.txt',\n 'https://ocr.lib.ncsu.edu/ocr/mc/mc00344-001-bx0001_1-007-000/mc00344-001-bx0001_1-007-000.txt',\n 'https://ocr.lib.ncsu.edu/ocr/mc/mc00344-001-bx0001_2-001-000/mc00344-001-bx0001_2-001-000.txt',\n 'https://ocr.lib.ncsu.edu/ocr/mc/mc00344-001-bx0001_2-002-000/mc00344-001-bx0001_2-002-000.txt',\n 'https://ocr.lib.ncsu.edu/ocr/mc/mc00620-001-bx0001-008-001/mc00620-001-bx0001-008-001.txt',\n 'https://ocr.lib.ncsu.edu/ocr/mc/mc00620-001-bx0001-011-002/mc00620-001-bx0001-011-002.txt',\n 'https://ocr.lib.ncsu.edu/ocr/mc/mc00620-001-bx0001-011-001/mc00620-001-bx0001-011-001.txt',\n 'https://ocr.lib.ncsu.edu/ocr/mc/mc00456-001-bx0005-007-004/mc00456-001-bx0005-007-004.txt',\n 'https://ocr.lib.ncsu.edu/ocr/mc/mc00620-001-hb0002-018-004/mc00620-001-hb0002-018-004.txt',\n 'https://ocr.lib.ncsu.edu/ocr/mc/mc00620-001-hb0002-020-010/mc00620-001-hb0002-020-010.txt',\n 'https://ocr.lib.ncsu.edu/ocr/mc/mc00620-001-bx0001-056-001/mc00620-001-bx0001-056-001.txt',\n 'https://ocr.lib.ncsu.edu/ocr/mc/mc00456-001-bx0007-005-001/mc00456-001-bx0007-005-001.txt',\n 'https://ocr.lib.ncsu.edu/ocr/mc/mc00344-001-bx0001_2-003-000/mc00344-001-bx0001_2-003-000.txt',\n 'https://ocr.lib.ncsu.edu/ocr/as/aspca_20200227_2492/aspca_20200227_2492.txt',\n 'https://ocr.lib.ncsu.edu/ocr/mc/mc00344-001-bx0001_2-004-000/mc00344-001-bx0001_2-004-000.txt',\n 'https://ocr.lib.ncsu.edu/ocr/mc/mc00344-001-bx0001_2-005-000/mc00344-001-bx0001_2-005-000.txt',\n 'https://ocr.lib.ncsu.edu/ocr/mc/mc00344-001-fb0001_48-000-000/mc00344-001-fb0001_48-000-000.txt',\n 'https://ocr.lib.ncsu.edu/ocr/mc/mc00620-001-bx0001-007-001/mc00620-001-bx0001-007-001.txt',\n 'https://ocr.lib.ncsu.edu/ocr/mc/mc00620-001-bx0001-007-002/mc00620-001-bx0001-007-002.txt',\n 'https://ocr.lib.ncsu.edu/ocr/as/aspca_20200305_2932/aspca_20200305_2932.txt',\n 'https://ocr.lib.ncsu.edu/ocr/as/aspca_20200303_2897/aspca_20200303_2897.txt',\n 'https://ocr.lib.ncsu.edu/ocr/as/aspca_20200305_3032/aspca_20200305_3032.txt',\n 'https://ocr.lib.ncsu.edu/ocr/as/aspca_20200309_3387/aspca_20200309_3387.txt',\n 'https://ocr.lib.ncsu.edu/ocr/as/aspca_20200310_3512/aspca_20200310_3512.txt',\n 'https://ocr.lib.ncsu.edu/ocr/as/aspca_20200228_2617/aspca_20200228_2617.txt',\n 'https://ocr.lib.ncsu.edu/ocr/as/aspca_20200305_2952/aspca_20200305_2952.txt',\n 'https://ocr.lib.ncsu.edu/ocr/as/aspca_20200305_3087/aspca_20200305_3087.txt',\n 'https://ocr.lib.ncsu.edu/ocr/as/aspca_20200303_2782/aspca_20200303_2782.txt',\n 'https://ocr.lib.ncsu.edu/ocr/as/aspca_20200228_2612/aspca_20200228_2612.txt',\n 'https://ocr.lib.ncsu.edu/ocr/as/aspca_20200302_2652/aspca_20200302_2652.txt',\n 'https://ocr.lib.ncsu.edu/ocr/as/aspca_20200302_2682/aspca_20200302_2682.txt',\n 'https://ocr.lib.ncsu.edu/ocr/as/aspca_20200303_2852/aspca_20200303_2852.txt',\n 'https://ocr.lib.ncsu.edu/ocr/as/aspca_20200305_2977/aspca_20200305_2977.txt',\n 'https://ocr.lib.ncsu.edu/ocr/as/aspca_20200309_3352/aspca_20200309_3352.txt',\n 'https://ocr.lib.ncsu.edu/ocr/as/aspca_20200303_2752/aspca_20200303_2752.txt',\n 'https://ocr.lib.ncsu.edu/ocr/as/aspca_20200228_2637/aspca_20200228_2637.txt',\n 'https://ocr.lib.ncsu.edu/ocr/as/aspca_20200302_2667/aspca_20200302_2667.txt',\n 'https://ocr.lib.ncsu.edu/ocr/as/aspca_20200302_2692/aspca_20200302_2692.txt',\n 'https://ocr.lib.ncsu.edu/ocr/as/aspca_20200303_2877/aspca_20200303_2877.txt']"
     },
     "metadata": {},
     "execution_count": 28
    }
   ],
   "source": [
    "ocr_links = [f\"https://ocr.lib.ncsu.edu/ocr/{pre}/{id}/{id}.txt\" for (id, _, pre) in ids_titles_pre]\n",
    "ocr_links[40:80]"
   ]
  },
  {
   "cell_type": "code",
   "execution_count": 30,
   "metadata": {},
   "outputs": [],
   "source": [
    "# destructure the tuples\n",
    "ids = [id for (id, _, _) in ids_titles_pre]\n",
    "titles = [title for (_, title, _) in ids_titles_pre]\n",
    "prefixes = [pre for (_, _, pre) in ids_titles_pre] "
   ]
  },
  {
   "cell_type": "code",
   "execution_count": 31,
   "metadata": {},
   "outputs": [
    {
     "output_type": "execute_result",
     "data": {
      "text/plain": "                             id  \\\n0    mc00456-001-bx0004-004-001   \n1  mc00344_118824_20200131_1256   \n2    mc00456-001-bx0006-034-001   \n3    mc00456-001-bx0007-013-001   \n4    mc00456-001-bx0002-009-001   \n\n                                               title prefix  \\\n0     \"In at the death\": Freeman on cruelty in sport     mc   \n1                  \"Some Uses of Laboratory Animals\"     mc   \n2  \"The Times\" article on the results of experime...     mc   \n3            A bill for the abolition of vivisection     mc   \n4                            A call for more helpers     mc   \n\n                                             ocr_url  \n0  https://ocr.lib.ncsu.edu/ocr/mc/mc00456-001-bx...  \n1  https://ocr.lib.ncsu.edu/ocr/mc/mc00344_118824...  \n2  https://ocr.lib.ncsu.edu/ocr/mc/mc00456-001-bx...  \n3  https://ocr.lib.ncsu.edu/ocr/mc/mc00456-001-bx...  \n4  https://ocr.lib.ncsu.edu/ocr/mc/mc00456-001-bx...  ",
      "text/html": "<div>\n<style scoped>\n    .dataframe tbody tr th:only-of-type {\n        vertical-align: middle;\n    }\n\n    .dataframe tbody tr th {\n        vertical-align: top;\n    }\n\n    .dataframe thead th {\n        text-align: right;\n    }\n</style>\n<table border=\"1\" class=\"dataframe\">\n  <thead>\n    <tr style=\"text-align: right;\">\n      <th></th>\n      <th>id</th>\n      <th>title</th>\n      <th>prefix</th>\n      <th>ocr_url</th>\n    </tr>\n  </thead>\n  <tbody>\n    <tr>\n      <th>0</th>\n      <td>mc00456-001-bx0004-004-001</td>\n      <td>\"In at the death\": Freeman on cruelty in sport</td>\n      <td>mc</td>\n      <td>https://ocr.lib.ncsu.edu/ocr/mc/mc00456-001-bx...</td>\n    </tr>\n    <tr>\n      <th>1</th>\n      <td>mc00344_118824_20200131_1256</td>\n      <td>\"Some Uses of Laboratory Animals\"</td>\n      <td>mc</td>\n      <td>https://ocr.lib.ncsu.edu/ocr/mc/mc00344_118824...</td>\n    </tr>\n    <tr>\n      <th>2</th>\n      <td>mc00456-001-bx0006-034-001</td>\n      <td>\"The Times\" article on the results of experime...</td>\n      <td>mc</td>\n      <td>https://ocr.lib.ncsu.edu/ocr/mc/mc00456-001-bx...</td>\n    </tr>\n    <tr>\n      <th>3</th>\n      <td>mc00456-001-bx0007-013-001</td>\n      <td>A bill for the abolition of vivisection</td>\n      <td>mc</td>\n      <td>https://ocr.lib.ncsu.edu/ocr/mc/mc00456-001-bx...</td>\n    </tr>\n    <tr>\n      <th>4</th>\n      <td>mc00456-001-bx0002-009-001</td>\n      <td>A call for more helpers</td>\n      <td>mc</td>\n      <td>https://ocr.lib.ncsu.edu/ocr/mc/mc00456-001-bx...</td>\n    </tr>\n  </tbody>\n</table>\n</div>"
     },
     "metadata": {},
     "execution_count": 31
    }
   ],
   "source": [
    "df = pd.DataFrame(data = {\n",
    "    \"id\": ids,\n",
    "    \"title\": titles, \n",
    "    \"prefix\": prefixes, \n",
    "    \"ocr_url\": ocr_links\n",
    "})\n",
    "df.head()"
   ]
  },
  {
   "cell_type": "code",
   "execution_count": 32,
   "metadata": {},
   "outputs": [],
   "source": [
    "df.to_csv(\"data/item-info.csv\")"
   ]
  },
  {
   "cell_type": "code",
   "execution_count": 35,
   "metadata": {},
   "outputs": [],
   "source": [
    "if not os.path.exists(\"texts\"):\n",
    "    os.makedirs(\"texts\")"
   ]
  },
  {
   "cell_type": "code",
   "execution_count": 46,
   "metadata": {
    "tags": []
   },
   "outputs": [],
   "source": [
    "for (id, url) in zip(ids, ocr_links):\n",
    "    res = requests.get(url)\n",
    "    with open(f\"texts/{id}.txt\", 'wb') as f:\n",
    "        f.write(res.content)\n",
    "     "
   ]
  },
  {
   "cell_type": "code",
   "execution_count": 47,
   "metadata": {},
   "outputs": [],
   "source": [
    "import glob"
   ]
  },
  {
   "cell_type": "code",
   "execution_count": 48,
   "metadata": {},
   "outputs": [
    {
     "output_type": "execute_result",
     "data": {
      "text/plain": "1006"
     },
     "metadata": {},
     "execution_count": 48
    }
   ],
   "source": [
    "len(glob.glob(\"texts/*.txt\"))"
   ]
  },
  {
   "cell_type": "code",
   "execution_count": null,
   "metadata": {},
   "outputs": [],
   "source": []
  }
 ],
 "metadata": {
  "language_info": {
   "codemirror_mode": {
    "name": "ipython",
    "version": 3
   },
   "file_extension": ".py",
   "mimetype": "text/x-python",
   "name": "python",
   "nbconvert_exporter": "python",
   "pygments_lexer": "ipython3",
   "version": "3.8.0-final"
  },
  "orig_nbformat": 2,
  "kernelspec": {
   "name": "python38064bitee5341a3dea54633ac05d0d728e05f7a",
   "display_name": "Python 3.8.0 64-bit"
  }
 },
 "nbformat": 4,
 "nbformat_minor": 2
}